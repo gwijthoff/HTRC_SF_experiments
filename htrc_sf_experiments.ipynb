{
 "cells": [
  {
   "cell_type": "markdown",
   "metadata": {
    "colab_type": "text",
    "id": "view-in-github"
   },
   "source": [
    "<a href=\"https://colab.research.google.com/github/gwijthoff/HTRC_SF_experiments/blob/main/htrc_sf_experiments.ipynb\" target=\"_parent\"><img src=\"https://colab.research.google.com/assets/colab-badge.svg\" alt=\"Open In Colab\"/></a>"
   ]
  },
  {
   "cell_type": "markdown",
   "metadata": {
    "id": "-YHL_EcFLRx8"
   },
   "source": [
    "# Overview of HTRC data\n",
    "\n",
    "HTRC provides a number of [specialized worksets](https://analytics.hathitrust.org/staticrecommendedworksets): topic-based collections of books (or \"volumes\") digitized by HathiTrust. Here, we'll be working with David Mimno and Laure Thompson's **20th Century English-Language Speculative Fiction** workset. It contains 2,454 \"volumes of speculative fiction [from 1900-1999] identified both through matching titles and authors to [Worlds Without End](https://www.worldswithoutend.com/) (WWE), an extensive fan-built database of speculative fiction, and via computational text similarity analysis techniques.\"\n",
    "\n",
    "The [HTRC Analytics interface](https://analytics.hathitrust.org) provides a few different, pre-defined ways of analyzing and accessing the data in their Recommended Worksets. I have already pre-downloaded all of the files needed for this tutorial and included them in this repository. So, if it's speculative fiction you want to work with, feel free to move on to the tutorial's [next section](#Working-with-metadata-for-entire-SF-workset). Otherwise, if you would like to use a different workset or learn the steps I took to get these files, continue reading below the line.\n",
    "\n",
    "***********\n",
    "\n",
    "**Optional:** to access the HTRC workset, navigate to <https://analytics.hathitrust.org/worksets> and log in or create an account. Select the workset you want, then click the orange download button. This will give you `20th Century English-Language Speculative Fiction-htrc.csv`, a CSV that contains the HathiTrust ID and title for each volume in the workset.\n",
    "\n",
    "You can also download pre-processed analyses of the texts in the workset, including:\n",
    "\n",
    "- **Named Entity Recognition**: click the \"Analysis\" dropdown menu and select Named Entity Recognizer to download `entities.csv`, which identifies particular words (or \"tokens) in the workset as being people, organizations, or places\n",
    "- **Token Counts**: select \"Token Counts and Tag Cloud Creator\" in the dropdown to download `token_counts.csv`: raw counts of every token in the workset's 2,454 volumes\n",
    "\n",
    "But we'll primarily be working with **Extracted Features**: a data format developed by HTRC that provides quantitative information describing every page of every volume in the collection. Each file is a compressed JSON. The files allow for nonconsumptive use of post 1923 works by providing \"quantitative abstractions of a book’s written content\" and metadata about each book.\n",
    "\n",
    "You need to use `rsync` to download these Extracted Features files for the entire SF workset. Again, *I've already done so and downloaded all of the Extracted Features data into the [`data/SpecFic_extracted_features`](https://github.com/gwijthoff/HTRC_SF_experiments/tree/main/data/SpecFic_extracted_features) directory of this repo.* But for future reference, here are the full [instructions for doing so](https://analytics.hathitrust.org/algorithms/Extracted_Features_Download_Helper?wsname=20th+Century+English-Language+Speculative+Fiction%40htrc). That process generates a shell script, `EF_Rsync.sh`. Once downloaded and run, that script will download the Extracted Features files for all 2,454 of those volumes. As we'll see in a bit, those files are stored in a tricky pairtree file/folder format."
   ]
  },
  {
   "cell_type": "markdown",
   "metadata": {
    "id": "5uWSmy4-Jl8Z"
   },
   "source": [
    "# Working with metadata for entire SF workset"
   ]
  },
  {
   "cell_type": "markdown",
   "metadata": {
    "id": "EMaxkYdjSVS1"
   },
   "source": [
    "First, we'll read in the CSV file containing bibliographic information on the SF workset as a [Pandas](https://pandas.pydata.org/) dataframe.\n",
    "\n",
    "**Note:** All the relevant files for this tutorial are located in this repo's [`/data`](https://github.com/gwijthoff/HTRC_SF_experiments/tree/main/data) directory, and are referenced throughout the notebook using that directory slug. *If you choose to use Google Colab* to run this notebook (rather than, for example, downloading and running it locally using [Anaconda](https://www.anaconda.com/products/individual)), you will need to change the file locations to the URL hosted on GitHub. For example, in the code block below,\n",
    "\n",
    "`data/20th Century English-Language Speculative Fiction-htrc.csv`\n",
    "\n",
    "would become\n",
    "\n",
    "`https://raw.githubusercontent.com/gwijthoff/HTRC_SF_experiments/main/data/20th%20Century%20English-Language%20Speculative%20Fiction-htrc.csv`"
   ]
  },
  {
   "cell_type": "code",
   "execution_count": 6,
   "metadata": {
    "colab": {
     "base_uri": "https://localhost:8080/",
     "height": 542
    },
    "id": "NWL3gx18BgYd",
    "outputId": "c42f30e4-5f7b-4e41-ce45-0a567f933de7"
   },
   "outputs": [
    {
     "data": {
      "text/html": [
       "<div>\n",
       "<style scoped>\n",
       "    .dataframe tbody tr th:only-of-type {\n",
       "        vertical-align: middle;\n",
       "    }\n",
       "\n",
       "    .dataframe tbody tr th {\n",
       "        vertical-align: top;\n",
       "    }\n",
       "\n",
       "    .dataframe thead th {\n",
       "        text-align: right;\n",
       "    }\n",
       "</style>\n",
       "<table border=\"1\" class=\"dataframe\">\n",
       "  <thead>\n",
       "    <tr style=\"text-align: right;\">\n",
       "      <th></th>\n",
       "      <th>id</th>\n",
       "      <th>title</th>\n",
       "      <th>year</th>\n",
       "      <th>language</th>\n",
       "      <th>authors</th>\n",
       "    </tr>\n",
       "  </thead>\n",
       "  <tbody>\n",
       "    <tr>\n",
       "      <th>0</th>\n",
       "      <td>mdp.39015028685199</td>\n",
       "      <td>The Alien condition. Edited by Stephen Goldin.</td>\n",
       "      <td>1973</td>\n",
       "      <td>eng</td>\n",
       "      <td>Goldin, Stephen</td>\n",
       "    </tr>\n",
       "    <tr>\n",
       "      <th>1</th>\n",
       "      <td>mdp.39015046479799</td>\n",
       "      <td>The sea came in at midnight / Steve Erickson.</td>\n",
       "      <td>1999</td>\n",
       "      <td>eng</td>\n",
       "      <td>Erickson, Steve</td>\n",
       "    </tr>\n",
       "    <tr>\n",
       "      <th>2</th>\n",
       "      <td>mdp.39015005649820</td>\n",
       "      <td>Plague ship / by Andre Norton.</td>\n",
       "      <td>1978</td>\n",
       "      <td>eng</td>\n",
       "      <td>Norton, Andre</td>\n",
       "    </tr>\n",
       "    <tr>\n",
       "      <th>3</th>\n",
       "      <td>mdp.39015011695874</td>\n",
       "      <td>The time traders / Andre Norton.</td>\n",
       "      <td>1978</td>\n",
       "      <td>eng</td>\n",
       "      <td>Norton, Andre</td>\n",
       "    </tr>\n",
       "    <tr>\n",
       "      <th>4</th>\n",
       "      <td>mdp.39015011358150</td>\n",
       "      <td>Blue Adept / Piers Anthony ; [map by Chris Bar...</td>\n",
       "      <td>1981</td>\n",
       "      <td>eng</td>\n",
       "      <td>Anthony, Piers</td>\n",
       "    </tr>\n",
       "    <tr>\n",
       "      <th>...</th>\n",
       "      <td>...</td>\n",
       "      <td>...</td>\n",
       "      <td>...</td>\n",
       "      <td>...</td>\n",
       "      <td>...</td>\n",
       "    </tr>\n",
       "    <tr>\n",
       "      <th>2449</th>\n",
       "      <td>mdp.39015000146798</td>\n",
       "      <td>The wind's twelve quarters : short stories / b...</td>\n",
       "      <td>1975</td>\n",
       "      <td>eng</td>\n",
       "      <td>Le Guin, Ursula K. 1929-</td>\n",
       "    </tr>\n",
       "    <tr>\n",
       "      <th>2450</th>\n",
       "      <td>mdp.39015034647167</td>\n",
       "      <td>Doorways in the sand / Roger Zelazny.</td>\n",
       "      <td>1977</td>\n",
       "      <td>eng</td>\n",
       "      <td>Zelazny, Roger</td>\n",
       "    </tr>\n",
       "    <tr>\n",
       "      <th>2451</th>\n",
       "      <td>nyp.33433105944254</td>\n",
       "      <td>A modern Utopia, by H. G. Wells.</td>\n",
       "      <td>1905</td>\n",
       "      <td>eng</td>\n",
       "      <td>Wells, H. G. (Herbert George) 1866-1946; Sulli...</td>\n",
       "    </tr>\n",
       "    <tr>\n",
       "      <th>2452</th>\n",
       "      <td>nnc1.cu16181638</td>\n",
       "      <td>The castle of iron :\\na science fantasy adventure</td>\n",
       "      <td>1962</td>\n",
       "      <td>NaN</td>\n",
       "      <td>De Camp, L. Sprague 1907-2000</td>\n",
       "    </tr>\n",
       "    <tr>\n",
       "      <th>2453</th>\n",
       "      <td>pst.000013229535</td>\n",
       "      <td>A scanner darkly</td>\n",
       "      <td>1977</td>\n",
       "      <td>NaN</td>\n",
       "      <td>\\tDick, Philip K</td>\n",
       "    </tr>\n",
       "  </tbody>\n",
       "</table>\n",
       "<p>2454 rows × 5 columns</p>\n",
       "</div>"
      ],
      "text/plain": [
       "                      id                                              title  \\\n",
       "0     mdp.39015028685199     The Alien condition. Edited by Stephen Goldin.   \n",
       "1     mdp.39015046479799      The sea came in at midnight / Steve Erickson.   \n",
       "2     mdp.39015005649820                     Plague ship / by Andre Norton.   \n",
       "3     mdp.39015011695874                   The time traders / Andre Norton.   \n",
       "4     mdp.39015011358150  Blue Adept / Piers Anthony ; [map by Chris Bar...   \n",
       "...                  ...                                                ...   \n",
       "2449  mdp.39015000146798  The wind's twelve quarters : short stories / b...   \n",
       "2450  mdp.39015034647167              Doorways in the sand / Roger Zelazny.   \n",
       "2451  nyp.33433105944254                   A modern Utopia, by H. G. Wells.   \n",
       "2452     nnc1.cu16181638  The castle of iron :\\na science fantasy adventure   \n",
       "2453    pst.000013229535                                   A scanner darkly   \n",
       "\n",
       "      year language                                            authors  \n",
       "0     1973      eng                                    Goldin, Stephen  \n",
       "1     1999      eng                                    Erickson, Steve  \n",
       "2     1978      eng                                      Norton, Andre  \n",
       "3     1978      eng                                      Norton, Andre  \n",
       "4     1981      eng                                     Anthony, Piers  \n",
       "...    ...      ...                                                ...  \n",
       "2449  1975      eng                           Le Guin, Ursula K. 1929-  \n",
       "2450  1977      eng                                     Zelazny, Roger  \n",
       "2451  1905      eng  Wells, H. G. (Herbert George) 1866-1946; Sulli...  \n",
       "2452  1962      NaN                      De Camp, L. Sprague 1907-2000  \n",
       "2453  1977      NaN                                   \\tDick, Philip K  \n",
       "\n",
       "[2454 rows x 5 columns]"
      ]
     },
     "execution_count": 6,
     "metadata": {},
     "output_type": "execute_result"
    }
   ],
   "source": [
    "import pandas as pd\n",
    "\n",
    "# select the CSV hosted by GitHub\n",
    "sfhtrc_csv = \"data/20th Century English-Language Speculative Fiction-htrc.csv\"\n",
    "\n",
    "# read that CSV as a pandas dataframe\n",
    "sf_biblio = pd.read_csv(sfhtrc_csv, delimiter=\",\", encoding='utf-8')\n",
    "sf_biblio"
   ]
  },
  {
   "cell_type": "code",
   "execution_count": 7,
   "metadata": {
    "colab": {
     "base_uri": "https://localhost:8080/",
     "height": 363
    },
    "id": "vvnVufNdJl8Z",
    "outputId": "5d3ebece-d802-4501-868f-902d430b3fe2"
   },
   "outputs": [
    {
     "data": {
      "text/html": [
       "<div>\n",
       "<style scoped>\n",
       "    .dataframe tbody tr th:only-of-type {\n",
       "        vertical-align: middle;\n",
       "    }\n",
       "\n",
       "    .dataframe tbody tr th {\n",
       "        vertical-align: top;\n",
       "    }\n",
       "\n",
       "    .dataframe thead th {\n",
       "        text-align: right;\n",
       "    }\n",
       "</style>\n",
       "<table border=\"1\" class=\"dataframe\">\n",
       "  <thead>\n",
       "    <tr style=\"text-align: right;\">\n",
       "      <th></th>\n",
       "      <th>vol_id</th>\n",
       "      <th>title</th>\n",
       "      <th>year</th>\n",
       "      <th>authors</th>\n",
       "    </tr>\n",
       "  </thead>\n",
       "  <tbody>\n",
       "    <tr>\n",
       "      <th>1487</th>\n",
       "      <td>mdp.39015005091841</td>\n",
       "      <td>Voodoo planet and Star hunter / by Andre Norton.</td>\n",
       "      <td>1978</td>\n",
       "      <td>Norton, Andre</td>\n",
       "    </tr>\n",
       "    <tr>\n",
       "      <th>639</th>\n",
       "      <td>mdp.39015062115905</td>\n",
       "      <td>Virtual light / William Gibson.</td>\n",
       "      <td>1993</td>\n",
       "      <td>Gibson, William 1948-</td>\n",
       "    </tr>\n",
       "    <tr>\n",
       "      <th>248</th>\n",
       "      <td>uc1.32106010566989</td>\n",
       "      <td>Job, a comedy of justice / Robert A. Heinlein.</td>\n",
       "      <td>1984</td>\n",
       "      <td>Heinlein, Robert A. (Robert Anson) 1907-1988</td>\n",
       "    </tr>\n",
       "    <tr>\n",
       "      <th>2389</th>\n",
       "      <td>osu.32435059729889</td>\n",
       "      <td>SF: '57 : the year's greatest science fiction ...</td>\n",
       "      <td>1957</td>\n",
       "      <td>Merril, Judith 1923-1997</td>\n",
       "    </tr>\n",
       "    <tr>\n",
       "      <th>1019</th>\n",
       "      <td>uva.x000133437</td>\n",
       "      <td>The iron thorn.</td>\n",
       "      <td>1968</td>\n",
       "      <td>Budrys, Algis 1931-2008</td>\n",
       "    </tr>\n",
       "    <tr>\n",
       "      <th>1195</th>\n",
       "      <td>mdp.39015061469303</td>\n",
       "      <td>Clicking stones / by Nancy Tyler Glenn.</td>\n",
       "      <td>1989</td>\n",
       "      <td>Glenn, Nancy Tyler 1938-</td>\n",
       "    </tr>\n",
       "    <tr>\n",
       "      <th>2272</th>\n",
       "      <td>mdp.39015002652942</td>\n",
       "      <td>Orsinian tales / Ursula K. Le Guin.</td>\n",
       "      <td>1976</td>\n",
       "      <td>Le Guin, Ursula K. 1929-</td>\n",
       "    </tr>\n",
       "    <tr>\n",
       "      <th>1296</th>\n",
       "      <td>inu.32000009095367</td>\n",
       "      <td>The Victorian chaise-longue.</td>\n",
       "      <td>1953</td>\n",
       "      <td>Laski, Marghanita 1915-</td>\n",
       "    </tr>\n",
       "    <tr>\n",
       "      <th>96</th>\n",
       "      <td>uva.x000884414</td>\n",
       "      <td>Sword of the lamb / M.K. Wren.</td>\n",
       "      <td>1981</td>\n",
       "      <td>Wren, M. K</td>\n",
       "    </tr>\n",
       "    <tr>\n",
       "      <th>2078</th>\n",
       "      <td>mdp.39015034397789</td>\n",
       "      <td>The Bellmaker / Brian Jacques ; illustrated by...</td>\n",
       "      <td>1995</td>\n",
       "      <td>Jacques, Brian; Curless, Allan ill</td>\n",
       "    </tr>\n",
       "  </tbody>\n",
       "</table>\n",
       "</div>"
      ],
      "text/plain": [
       "                  vol_id                                              title  \\\n",
       "1487  mdp.39015005091841   Voodoo planet and Star hunter / by Andre Norton.   \n",
       "639   mdp.39015062115905                    Virtual light / William Gibson.   \n",
       "248   uc1.32106010566989     Job, a comedy of justice / Robert A. Heinlein.   \n",
       "2389  osu.32435059729889  SF: '57 : the year's greatest science fiction ...   \n",
       "1019      uva.x000133437                                    The iron thorn.   \n",
       "1195  mdp.39015061469303            Clicking stones / by Nancy Tyler Glenn.   \n",
       "2272  mdp.39015002652942                Orsinian tales / Ursula K. Le Guin.   \n",
       "1296  inu.32000009095367                       The Victorian chaise-longue.   \n",
       "96        uva.x000884414                     Sword of the lamb / M.K. Wren.   \n",
       "2078  mdp.39015034397789  The Bellmaker / Brian Jacques ; illustrated by...   \n",
       "\n",
       "      year                                       authors  \n",
       "1487  1978                                 Norton, Andre  \n",
       "639   1993                         Gibson, William 1948-  \n",
       "248   1984  Heinlein, Robert A. (Robert Anson) 1907-1988  \n",
       "2389  1957                      Merril, Judith 1923-1997  \n",
       "1019  1968                       Budrys, Algis 1931-2008  \n",
       "1195  1989                      Glenn, Nancy Tyler 1938-  \n",
       "2272  1976                      Le Guin, Ursula K. 1929-  \n",
       "1296  1953                       Laski, Marghanita 1915-  \n",
       "96    1981                                    Wren, M. K  \n",
       "2078  1995            Jacques, Brian; Curless, Allan ill  "
      ]
     },
     "execution_count": 7,
     "metadata": {},
     "output_type": "execute_result"
    }
   ],
   "source": [
    "# some numbers in the year column are floats (contain a decimal)\n",
    "# convert those years to integers / whole numbers\n",
    "sf_biblio['year'] = sf_biblio['year'].astype('int64')\n",
    "\n",
    "# becuase everything in this workset is in English\n",
    "# for simplicity's sake, we'll drop the language column\n",
    "sf_biblio = sf_biblio.drop(columns=\"language\")\n",
    "\n",
    "# HTRC Extracted Features files use the variable name `vol_id` for HathiTrust IDs\n",
    "# but the bibliographic info CSV uses `id`\n",
    "# so, rename that column to match the Extracted Features we'll be working with\n",
    "sf_biblio = sf_biblio.rename(columns = {'id':'vol_id'})\n",
    "\n",
    "# sample ten volumes from the dataframe to verify our results\n",
    "sf_biblio.sample(10)"
   ]
  },
  {
   "cell_type": "markdown",
   "metadata": {
    "id": "8V8cB3OuSt8c"
   },
   "source": [
    "We now have a structured DataFrame that contains the HTRC volume ID, the title of the volume, its publication year, and its author.\n",
    "\n",
    "But there are many other data fields in the Extracted Features and named entity recognition data that we'll want to work with. So, let's merge this DataFrame with those other datasets."
   ]
  },
  {
   "cell_type": "markdown",
   "metadata": {
    "id": "D5ixY-IKKL2s"
   },
   "source": [
    "# Get the pairtree path for all volumes\n",
    "\n",
    "`rsync` downloads all Extracted Features files in a convoluted pairtree folder format. For example, the data file for a novel at the HTRC url <http://hdl.handle.net/2027/mdp.39015028685199> will be downloaded via rsync in the directory structure `mdp/31289/mdp.39015028685199.json.bz2`. To get a sense of these tangled and nested directories, browse the Extracted Features files [in this folder](https://github.com/gwijthoff/HTRC_SF_experiments/tree/main/data/SpecFic_extracted_features).\n",
    "\n",
    "We can use one of the utilities in HTRC's Feature Reader to reconstruct the pairtree paths. First, let's install Feature Reader, which we'll use later to explore the Extracted Features files."
   ]
  },
  {
   "cell_type": "code",
   "execution_count": 8,
   "metadata": {
    "colab": {
     "base_uri": "https://localhost:8080/"
    },
    "id": "h_Ld8QIVVfun",
    "outputId": "87f53857-76ea-4ada-8419-d30fbc60a9d2"
   },
   "outputs": [
    {
     "name": "stdout",
     "output_type": "stream",
     "text": [
      "Requirement already satisfied: htrc-feature-reader in /opt/anaconda3/lib/python3.8/site-packages (2.0.7)\n",
      "Requirement already satisfied: python-rapidjson in /opt/anaconda3/lib/python3.8/site-packages (from htrc-feature-reader) (1.0)\n",
      "Requirement already satisfied: pymarc in /opt/anaconda3/lib/python3.8/site-packages (from htrc-feature-reader) (4.1.0)\n",
      "Requirement already satisfied: six in /opt/anaconda3/lib/python3.8/site-packages (from htrc-feature-reader) (1.15.0)\n",
      "Requirement already satisfied: requests in /opt/anaconda3/lib/python3.8/site-packages (from htrc-feature-reader) (2.24.0)\n",
      "Requirement already satisfied: pandas>=0.24 in /opt/anaconda3/lib/python3.8/site-packages (from htrc-feature-reader) (1.0.5)\n",
      "Requirement already satisfied: urllib3!=1.25.0,!=1.25.1,<1.26,>=1.21.1 in /opt/anaconda3/lib/python3.8/site-packages (from requests->htrc-feature-reader) (1.25.9)\n",
      "Requirement already satisfied: chardet<4,>=3.0.2 in /opt/anaconda3/lib/python3.8/site-packages (from requests->htrc-feature-reader) (3.0.4)\n",
      "Requirement already satisfied: certifi>=2017.4.17 in /opt/anaconda3/lib/python3.8/site-packages (from requests->htrc-feature-reader) (2020.6.20)\n",
      "Requirement already satisfied: idna<3,>=2.5 in /opt/anaconda3/lib/python3.8/site-packages (from requests->htrc-feature-reader) (2.10)\n",
      "Requirement already satisfied: numpy>=1.13.3 in /opt/anaconda3/lib/python3.8/site-packages (from pandas>=0.24->htrc-feature-reader) (1.18.5)\n",
      "Requirement already satisfied: pytz>=2017.2 in /opt/anaconda3/lib/python3.8/site-packages (from pandas>=0.24->htrc-feature-reader) (2020.1)\n",
      "Requirement already satisfied: python-dateutil>=2.6.1 in /opt/anaconda3/lib/python3.8/site-packages (from pandas>=0.24->htrc-feature-reader) (2.8.1)\n"
     ]
    }
   ],
   "source": [
    "# install the HTRC Feature Reader\n",
    "! pip install htrc-feature-reader"
   ]
  },
  {
   "cell_type": "markdown",
   "metadata": {
    "id": "6GlAAKhCVq9P"
   },
   "source": [
    "Now, let's use the `htid2rsync` utility. From the [documentation](https://github.com/htrc/htrc-feature-reader/blob/master/examples/ID_to_Rsync_Link.ipynb):\n",
    "\n",
    "> When you install the HTRC Feature Reader, a command line utility is installed, `htid2rsync`, which converts one or more volume ids to paths in the rsync pairtree. . . . Loading volume ids from a file: If you have a file of volume ids, one per line, use --from-file filename, or just -f filename.\n",
    "\n",
    "In order to reconstruct the filepaths for each volume, we can use the HTRC volume IDs column in `data/20th Century English-Language Speculative Fiction-htrc.csv` used above. I created a text file with a list of those HTRC IDs, one on each line: `data/sf_ids.txt`. [There's probably a pythonic way of doing this, but I felt lazy and just manually copy-pasted.] We'll use that .txt file to convert HTRC IDs to local pairtree paths.\n",
    "\n",
    "So, this shell command will take each HTRC ID in `sf_ids.txt`, one volume per line, and convert them to the pairtree directory of each volume's associated Extracted Features file in a new file, `paths.txt`."
   ]
  },
  {
   "cell_type": "code",
   "execution_count": 9,
   "metadata": {
    "id": "heL_MmBmKL2u"
   },
   "outputs": [],
   "source": [
    "! htid2rsync --f data/sf_ids.txt -o data/paths.txt"
   ]
  },
  {
   "cell_type": "markdown",
   "metadata": {
    "id": "MyPTxx5DYEaA"
   },
   "source": [
    "# Merging pairtree paths with bibliographic DataFrame\n",
    "\n",
    "Now we need to create two lists from those .txt files, one for HTRC IDs and another for pairtree paths. Let's begin with the one for paths:"
   ]
  },
  {
   "cell_type": "code",
   "execution_count": 10,
   "metadata": {
    "colab": {
     "base_uri": "https://localhost:8080/"
    },
    "id": "CYzk14m0OqP8",
    "outputId": "88f6d95b-71ad-476e-ebe1-f0c0ff360637"
   },
   "outputs": [
    {
     "data": {
      "text/plain": [
       "['data/SpecFic_extracted_features/mdp/31289/mdp.39015028685199.json.bz2',\n",
       " 'data/SpecFic_extracted_features/mdp/31479/mdp.39015046479799.json.bz2',\n",
       " 'data/SpecFic_extracted_features/mdp/31042/mdp.39015005649820.json.bz2',\n",
       " 'data/SpecFic_extracted_features/mdp/31197/mdp.39015011695874.json.bz2',\n",
       " 'data/SpecFic_extracted_features/mdp/31155/mdp.39015011358150.json.bz2',\n",
       " 'data/SpecFic_extracted_features/uva/x019/uva.x000221509.json.bz2',\n",
       " 'data/SpecFic_extracted_features/uc1/30038/uc1.32106006839184.json.bz2',\n",
       " 'data/SpecFic_extracted_features/coo1/a+30226/coo1.ark+=13960=t2z32cn6s.json.bz2',\n",
       " 'data/SpecFic_extracted_features/mdp/31021/mdp.39015008521117.json.bz2',\n",
       " 'data/SpecFic_extracted_features/mdp/31049/mdp.39015000543895.json.bz2']"
      ]
     },
     "execution_count": 10,
     "metadata": {},
     "output_type": "execute_result"
    }
   ],
   "source": [
    "from htrc_features import FeatureReader\n",
    "\n",
    "#  create a list from paths.txt line by line\n",
    "path_file = open('data/paths.txt')\n",
    "list1 = path_file.readlines()\n",
    "items = []\n",
    "for i in list1:\n",
    "    items.append(i)\n",
    "\n",
    "# remove the \\n character from that list\n",
    "list2 = [x[:-1] for x in items]\n",
    "\n",
    "# add home directory slugs\n",
    "dir = 'data/SpecFic_extracted_features/'\n",
    "paths = [dir + x for x in list2]\n",
    "\n",
    "# view the first 10 items in the list\n",
    "paths[:10]"
   ]
  },
  {
   "cell_type": "markdown",
   "metadata": {
    "id": "wGgE7RAqYOnH"
   },
   "source": [
    "And now we'll create another list for the HTRC IDs:"
   ]
  },
  {
   "cell_type": "code",
   "execution_count": 11,
   "metadata": {
    "colab": {
     "base_uri": "https://localhost:8080/"
    },
    "id": "2JpjtWCDW4cK",
    "outputId": "082c6ba6-5f69-4c88-a881-f3f88d78dc50"
   },
   "outputs": [
    {
     "data": {
      "text/plain": [
       "['mdp.39015028685199',\n",
       " 'mdp.39015046479799',\n",
       " 'mdp.39015005649820',\n",
       " 'mdp.39015011695874',\n",
       " 'mdp.39015011358150',\n",
       " 'uva.x000221509',\n",
       " 'uc1.32106006839184',\n",
       " 'coo1.ark:/13960/t2z32cn6s',\n",
       " 'mdp.39015008521117',\n",
       " 'mdp.39015000543895']"
      ]
     },
     "execution_count": 11,
     "metadata": {},
     "output_type": "execute_result"
    }
   ],
   "source": [
    "#  create a list from sf_ids.txt line by line\n",
    "id_file = open('data/sf_ids.txt')\n",
    "listids = id_file.readlines()\n",
    "items = []\n",
    "for i in listids:\n",
    "    items.append(i)\n",
    "\n",
    "# remove the \\n character from that list\n",
    "ids = [x[:-1] for x in items]\n",
    "\n",
    "# view the first 10 items in the list\n",
    "ids[:10]"
   ]
  },
  {
   "cell_type": "markdown",
   "metadata": {
    "id": "6D4ZxfrxZStq"
   },
   "source": [
    "Now let's zip those two lists together as a list of tuples, and create a DataFrame out of it. The numbers in the HathiTrust ID and the directory location of the Extracted Features json for that volume should match up."
   ]
  },
  {
   "cell_type": "code",
   "execution_count": 12,
   "metadata": {
    "colab": {
     "base_uri": "https://localhost:8080/"
    },
    "id": "pgnEMVRbYpGG",
    "outputId": "cdf11b25-b6c2-413e-d462-218494a37b03"
   },
   "outputs": [
    {
     "data": {
      "text/plain": [
       "[('mdp.39015028685199',\n",
       "  'data/SpecFic_extracted_features/mdp/31289/mdp.39015028685199.json.bz2'),\n",
       " ('mdp.39015046479799',\n",
       "  'data/SpecFic_extracted_features/mdp/31479/mdp.39015046479799.json.bz2'),\n",
       " ('mdp.39015005649820',\n",
       "  'data/SpecFic_extracted_features/mdp/31042/mdp.39015005649820.json.bz2'),\n",
       " ('mdp.39015011695874',\n",
       "  'data/SpecFic_extracted_features/mdp/31197/mdp.39015011695874.json.bz2'),\n",
       " ('mdp.39015011358150',\n",
       "  'data/SpecFic_extracted_features/mdp/31155/mdp.39015011358150.json.bz2'),\n",
       " ('uva.x000221509',\n",
       "  'data/SpecFic_extracted_features/uva/x019/uva.x000221509.json.bz2'),\n",
       " ('uc1.32106006839184',\n",
       "  'data/SpecFic_extracted_features/uc1/30038/uc1.32106006839184.json.bz2'),\n",
       " ('coo1.ark:/13960/t2z32cn6s',\n",
       "  'data/SpecFic_extracted_features/coo1/a+30226/coo1.ark+=13960=t2z32cn6s.json.bz2'),\n",
       " ('mdp.39015008521117',\n",
       "  'data/SpecFic_extracted_features/mdp/31021/mdp.39015008521117.json.bz2'),\n",
       " ('mdp.39015000543895',\n",
       "  'data/SpecFic_extracted_features/mdp/31049/mdp.39015000543895.json.bz2')]"
      ]
     },
     "execution_count": 12,
     "metadata": {},
     "output_type": "execute_result"
    }
   ],
   "source": [
    "id_tuples = list(zip(ids, paths))\n",
    "id_tuples[:10] "
   ]
  },
  {
   "cell_type": "markdown",
   "metadata": {
    "id": "Hb-W9Zt8Zrjl"
   },
   "source": [
    "Now create a new DataFrame and randomly sample 5 items."
   ]
  },
  {
   "cell_type": "code",
   "execution_count": 13,
   "metadata": {
    "colab": {
     "base_uri": "https://localhost:8080/",
     "height": 206
    },
    "id": "UP57TWHpZlHX",
    "outputId": "d0f39a51-dba9-4950-de03-7cc77e2d8436"
   },
   "outputs": [
    {
     "data": {
      "text/html": [
       "<div>\n",
       "<style scoped>\n",
       "    .dataframe tbody tr th:only-of-type {\n",
       "        vertical-align: middle;\n",
       "    }\n",
       "\n",
       "    .dataframe tbody tr th {\n",
       "        vertical-align: top;\n",
       "    }\n",
       "\n",
       "    .dataframe thead th {\n",
       "        text-align: right;\n",
       "    }\n",
       "</style>\n",
       "<table border=\"1\" class=\"dataframe\">\n",
       "  <thead>\n",
       "    <tr style=\"text-align: right;\">\n",
       "      <th></th>\n",
       "      <th>vol_id</th>\n",
       "      <th>path</th>\n",
       "    </tr>\n",
       "  </thead>\n",
       "  <tbody>\n",
       "    <tr>\n",
       "      <th>2303</th>\n",
       "      <td>mdp.39015047112498</td>\n",
       "      <td>data/SpecFic_extracted_features/mdp/31419/mdp....</td>\n",
       "    </tr>\n",
       "    <tr>\n",
       "      <th>414</th>\n",
       "      <td>wu.89014640072</td>\n",
       "      <td>data/SpecFic_extracted_features/wu/8147/wu.890...</td>\n",
       "    </tr>\n",
       "    <tr>\n",
       "      <th>1155</th>\n",
       "      <td>mdp.39015008979794</td>\n",
       "      <td>data/SpecFic_extracted_features/mdp/31079/mdp....</td>\n",
       "    </tr>\n",
       "    <tr>\n",
       "      <th>665</th>\n",
       "      <td>mdp.39015047473528</td>\n",
       "      <td>data/SpecFic_extracted_features/mdp/31472/mdp....</td>\n",
       "    </tr>\n",
       "    <tr>\n",
       "      <th>805</th>\n",
       "      <td>uc1.32106002192786</td>\n",
       "      <td>data/SpecFic_extracted_features/uc1/30098/uc1....</td>\n",
       "    </tr>\n",
       "  </tbody>\n",
       "</table>\n",
       "</div>"
      ],
      "text/plain": [
       "                  vol_id                                               path\n",
       "2303  mdp.39015047112498  data/SpecFic_extracted_features/mdp/31419/mdp....\n",
       "414       wu.89014640072  data/SpecFic_extracted_features/wu/8147/wu.890...\n",
       "1155  mdp.39015008979794  data/SpecFic_extracted_features/mdp/31079/mdp....\n",
       "665   mdp.39015047473528  data/SpecFic_extracted_features/mdp/31472/mdp....\n",
       "805   uc1.32106002192786  data/SpecFic_extracted_features/uc1/30098/uc1...."
      ]
     },
     "execution_count": 13,
     "metadata": {},
     "output_type": "execute_result"
    }
   ],
   "source": [
    "dfid = pd.DataFrame(id_tuples, columns = ['vol_id', 'path'])\n",
    "dfid.sample(5)"
   ]
  },
  {
   "cell_type": "markdown",
   "metadata": {
    "id": "EaZl9rlraUWs"
   },
   "source": [
    "And finally, merge that new DataFrame with our existing `sf_biblio` DataFrame, matching them up using the `vol_id` column."
   ]
  },
  {
   "cell_type": "code",
   "execution_count": 14,
   "metadata": {
    "colab": {
     "base_uri": "https://localhost:8080/",
     "height": 206
    },
    "id": "lzjOIFNKZ9-j",
    "outputId": "5d721e50-3dff-4811-b95c-521133bee719"
   },
   "outputs": [
    {
     "data": {
      "text/html": [
       "<div>\n",
       "<style scoped>\n",
       "    .dataframe tbody tr th:only-of-type {\n",
       "        vertical-align: middle;\n",
       "    }\n",
       "\n",
       "    .dataframe tbody tr th {\n",
       "        vertical-align: top;\n",
       "    }\n",
       "\n",
       "    .dataframe thead th {\n",
       "        text-align: right;\n",
       "    }\n",
       "</style>\n",
       "<table border=\"1\" class=\"dataframe\">\n",
       "  <thead>\n",
       "    <tr style=\"text-align: right;\">\n",
       "      <th></th>\n",
       "      <th>vol_id</th>\n",
       "      <th>title</th>\n",
       "      <th>year</th>\n",
       "      <th>authors</th>\n",
       "      <th>path</th>\n",
       "    </tr>\n",
       "  </thead>\n",
       "  <tbody>\n",
       "    <tr>\n",
       "      <th>457</th>\n",
       "      <td>mdp.39015034424724</td>\n",
       "      <td>Mercury / Anna Kavan ; with a foreword by Dori...</td>\n",
       "      <td>1994</td>\n",
       "      <td>Kavan, Anna 1901-1968</td>\n",
       "      <td>data/SpecFic_extracted_features/mdp/31322/mdp....</td>\n",
       "    </tr>\n",
       "    <tr>\n",
       "      <th>280</th>\n",
       "      <td>mdp.39015022255817</td>\n",
       "      <td>Boy's life / Robert R. McCammon.</td>\n",
       "      <td>1991</td>\n",
       "      <td>McCammon, Robert R</td>\n",
       "      <td>data/SpecFic_extracted_features/mdp/31251/mdp....</td>\n",
       "    </tr>\n",
       "    <tr>\n",
       "      <th>943</th>\n",
       "      <td>uva.x001298418</td>\n",
       "      <td>The ark Sakura / Kobo Abe ; [translated by Jul...</td>\n",
       "      <td>1988</td>\n",
       "      <td>Abe, Ko?bo? 1924-1993</td>\n",
       "      <td>data/SpecFic_extracted_features/uva/x188/uva.x...</td>\n",
       "    </tr>\n",
       "    <tr>\n",
       "      <th>1899</th>\n",
       "      <td>pst.000049761221</td>\n",
       "      <td>The realms of the gods / Tamora Pierce.</td>\n",
       "      <td>1996</td>\n",
       "      <td>Pierce, Tamora</td>\n",
       "      <td>data/SpecFic_extracted_features/pst/0072/pst.0...</td>\n",
       "    </tr>\n",
       "    <tr>\n",
       "      <th>2424</th>\n",
       "      <td>mdp.39015031213609</td>\n",
       "      <td>The wrong end of time / by John Brunner.</td>\n",
       "      <td>1971</td>\n",
       "      <td>Brunner, John 1934-1995</td>\n",
       "      <td>data/SpecFic_extracted_features/mdp/31310/mdp....</td>\n",
       "    </tr>\n",
       "  </tbody>\n",
       "</table>\n",
       "</div>"
      ],
      "text/plain": [
       "                  vol_id                                              title  \\\n",
       "457   mdp.39015034424724  Mercury / Anna Kavan ; with a foreword by Dori...   \n",
       "280   mdp.39015022255817                   Boy's life / Robert R. McCammon.   \n",
       "943       uva.x001298418  The ark Sakura / Kobo Abe ; [translated by Jul...   \n",
       "1899    pst.000049761221            The realms of the gods / Tamora Pierce.   \n",
       "2424  mdp.39015031213609           The wrong end of time / by John Brunner.   \n",
       "\n",
       "      year                  authors  \\\n",
       "457   1994    Kavan, Anna 1901-1968   \n",
       "280   1991       McCammon, Robert R   \n",
       "943   1988    Abe, Ko?bo? 1924-1993   \n",
       "1899  1996           Pierce, Tamora   \n",
       "2424  1971  Brunner, John 1934-1995   \n",
       "\n",
       "                                                   path  \n",
       "457   data/SpecFic_extracted_features/mdp/31322/mdp....  \n",
       "280   data/SpecFic_extracted_features/mdp/31251/mdp....  \n",
       "943   data/SpecFic_extracted_features/uva/x188/uva.x...  \n",
       "1899  data/SpecFic_extracted_features/pst/0072/pst.0...  \n",
       "2424  data/SpecFic_extracted_features/mdp/31310/mdp....  "
      ]
     },
     "execution_count": 14,
     "metadata": {},
     "output_type": "execute_result"
    }
   ],
   "source": [
    "bibloc = pd.merge(sf_biblio, dfid, on='vol_id')\n",
    "# replace all NaN values with a blank cell (??)\n",
    "bibloc.fillna('',inplace=True)\n",
    "bibloc.sample(5)"
   ]
  },
  {
   "cell_type": "markdown",
   "metadata": {
    "id": "O9vtF9jVpbPO"
   },
   "source": [
    "# Using our new bibliographic dataframe to query Extracted Features\n",
    "\n",
    "We can now use this DataFrame containing bibliographic and file path info to query Extracted Features data on each book.\n",
    "\n",
    "Let's filter the author column to all volumes containing the string \"Delany,\" to find works included in this workset written by Samuel R. Delany."
   ]
  },
  {
   "cell_type": "code",
   "execution_count": 16,
   "metadata": {
    "colab": {
     "base_uri": "https://localhost:8080/",
     "height": 520
    },
    "id": "k9yGo1eyazmg",
    "outputId": "680e0fc5-d8f7-482e-b694-c3ec25103adb"
   },
   "outputs": [
    {
     "data": {
      "text/html": [
       "<div>\n",
       "<style scoped>\n",
       "    .dataframe tbody tr th:only-of-type {\n",
       "        vertical-align: middle;\n",
       "    }\n",
       "\n",
       "    .dataframe tbody tr th {\n",
       "        vertical-align: top;\n",
       "    }\n",
       "\n",
       "    .dataframe thead th {\n",
       "        text-align: right;\n",
       "    }\n",
       "</style>\n",
       "<table border=\"1\" class=\"dataframe\">\n",
       "  <thead>\n",
       "    <tr style=\"text-align: right;\">\n",
       "      <th></th>\n",
       "      <th>vol_id</th>\n",
       "      <th>title</th>\n",
       "      <th>year</th>\n",
       "      <th>authors</th>\n",
       "      <th>path</th>\n",
       "    </tr>\n",
       "  </thead>\n",
       "  <tbody>\n",
       "    <tr>\n",
       "      <th>277</th>\n",
       "      <td>mdp.39015008955943</td>\n",
       "      <td>Driftglass, by Samuel R. Delaney [i.e. Delany]</td>\n",
       "      <td>1971</td>\n",
       "      <td>Delany, Samuel R</td>\n",
       "      <td>data/SpecFic_extracted_features/mdp/31054/mdp....</td>\n",
       "    </tr>\n",
       "    <tr>\n",
       "      <th>328</th>\n",
       "      <td>mdp.39015014574118</td>\n",
       "      <td>The bridge of lost desire / Samuel R. Delany.</td>\n",
       "      <td>1987</td>\n",
       "      <td>Delany, Samuel R</td>\n",
       "      <td>data/SpecFic_extracted_features/mdp/31171/mdp....</td>\n",
       "    </tr>\n",
       "    <tr>\n",
       "      <th>378</th>\n",
       "      <td>mdp.39015005320745</td>\n",
       "      <td>Babel-17 / Samuel R. Delany ; with a new intro...</td>\n",
       "      <td>1976</td>\n",
       "      <td>Delany, Samuel R</td>\n",
       "      <td>data/SpecFic_extracted_features/mdp/31024/mdp....</td>\n",
       "    </tr>\n",
       "    <tr>\n",
       "      <th>495</th>\n",
       "      <td>osu.32435058033408</td>\n",
       "      <td>The jewels of Aptor / Samuel R. Delany. The se...</td>\n",
       "      <td>1962</td>\n",
       "      <td>Delany, Samuel R; White, James</td>\n",
       "      <td>data/SpecFic_extracted_features/osu/33530/osu....</td>\n",
       "    </tr>\n",
       "    <tr>\n",
       "      <th>646</th>\n",
       "      <td>mdp.39015008420773</td>\n",
       "      <td>The fall of the towers / Samuel R. Delany ; wi...</td>\n",
       "      <td>1977</td>\n",
       "      <td>Delany, Samuel R</td>\n",
       "      <td>data/SpecFic_extracted_features/mdp/31027/mdp....</td>\n",
       "    </tr>\n",
       "    <tr>\n",
       "      <th>670</th>\n",
       "      <td>uc1.32106008842756</td>\n",
       "      <td>Triton / Samuel R. Delany.</td>\n",
       "      <td>1976</td>\n",
       "      <td>Delany, Samuel R</td>\n",
       "      <td>data/SpecFic_extracted_features/uc1/30045/uc1....</td>\n",
       "    </tr>\n",
       "    <tr>\n",
       "      <th>765</th>\n",
       "      <td>mdp.39015008600119</td>\n",
       "      <td>Stars in my pocket like grains of sand / Samue...</td>\n",
       "      <td>1984</td>\n",
       "      <td>Delany, Samuel R</td>\n",
       "      <td>data/SpecFic_extracted_features/mdp/31001/mdp....</td>\n",
       "    </tr>\n",
       "    <tr>\n",
       "      <th>804</th>\n",
       "      <td>mdp.39015046879170</td>\n",
       "      <td>Flight from Nev?r?on / Samuel R. Delany.</td>\n",
       "      <td>1985</td>\n",
       "      <td>Delany, Samuel R</td>\n",
       "      <td>data/SpecFic_extracted_features/mdp/31477/mdp....</td>\n",
       "    </tr>\n",
       "    <tr>\n",
       "      <th>877</th>\n",
       "      <td>mdp.39015016440722</td>\n",
       "      <td>The ballad of Beta-2 / by Samuel R. Delany.</td>\n",
       "      <td>1965</td>\n",
       "      <td>Delany, Samuel R</td>\n",
       "      <td>data/SpecFic_extracted_features/mdp/31142/mdp....</td>\n",
       "    </tr>\n",
       "    <tr>\n",
       "      <th>1217</th>\n",
       "      <td>mdp.39015012119213</td>\n",
       "      <td>Tales of Neveryon. By S. Delany.</td>\n",
       "      <td>1979</td>\n",
       "      <td>Delany, Samuel R</td>\n",
       "      <td>data/SpecFic_extracted_features/mdp/31111/mdp....</td>\n",
       "    </tr>\n",
       "    <tr>\n",
       "      <th>1494</th>\n",
       "      <td>mdp.39015019344996</td>\n",
       "      <td>Nevery?na, or, The tale of signs and cities / ...</td>\n",
       "      <td>1983</td>\n",
       "      <td>Delany, Samuel R</td>\n",
       "      <td>data/SpecFic_extracted_features/mdp/31149/mdp....</td>\n",
       "    </tr>\n",
       "    <tr>\n",
       "      <th>1652</th>\n",
       "      <td>uc1.b3862883</td>\n",
       "      <td>The Einstein intersection / by Samuel R. Delany.</td>\n",
       "      <td>1967</td>\n",
       "      <td>Delany, Samuel R</td>\n",
       "      <td>data/SpecFic_extracted_features/uc1/b68/uc1.b3...</td>\n",
       "    </tr>\n",
       "    <tr>\n",
       "      <th>1864</th>\n",
       "      <td>mdp.39015028745233</td>\n",
       "      <td>Empire star / Samuel R. Delany ; with a new in...</td>\n",
       "      <td>1977</td>\n",
       "      <td>Delany, Samuel R</td>\n",
       "      <td>data/SpecFic_extracted_features/mdp/31243/mdp....</td>\n",
       "    </tr>\n",
       "    <tr>\n",
       "      <th>1925</th>\n",
       "      <td>uva.x001465758</td>\n",
       "      <td>Dhalgren / Samuel R. Delany.</td>\n",
       "      <td>1982</td>\n",
       "      <td>Delany, Samuel R</td>\n",
       "      <td>data/SpecFic_extracted_features/uva/x158/uva.x...</td>\n",
       "    </tr>\n",
       "    <tr>\n",
       "      <th>2431</th>\n",
       "      <td>mdp.39015014448818</td>\n",
       "      <td>Nova / Samuel R. Delany.</td>\n",
       "      <td>1969</td>\n",
       "      <td>Delany, Samuel R</td>\n",
       "      <td>data/SpecFic_extracted_features/mdp/31141/mdp....</td>\n",
       "    </tr>\n",
       "  </tbody>\n",
       "</table>\n",
       "</div>"
      ],
      "text/plain": [
       "                  vol_id                                              title  \\\n",
       "277   mdp.39015008955943     Driftglass, by Samuel R. Delaney [i.e. Delany]   \n",
       "328   mdp.39015014574118      The bridge of lost desire / Samuel R. Delany.   \n",
       "378   mdp.39015005320745  Babel-17 / Samuel R. Delany ; with a new intro...   \n",
       "495   osu.32435058033408  The jewels of Aptor / Samuel R. Delany. The se...   \n",
       "646   mdp.39015008420773  The fall of the towers / Samuel R. Delany ; wi...   \n",
       "670   uc1.32106008842756                         Triton / Samuel R. Delany.   \n",
       "765   mdp.39015008600119  Stars in my pocket like grains of sand / Samue...   \n",
       "804   mdp.39015046879170           Flight from Nev?r?on / Samuel R. Delany.   \n",
       "877   mdp.39015016440722        The ballad of Beta-2 / by Samuel R. Delany.   \n",
       "1217  mdp.39015012119213                   Tales of Neveryon. By S. Delany.   \n",
       "1494  mdp.39015019344996  Nevery?na, or, The tale of signs and cities / ...   \n",
       "1652        uc1.b3862883   The Einstein intersection / by Samuel R. Delany.   \n",
       "1864  mdp.39015028745233  Empire star / Samuel R. Delany ; with a new in...   \n",
       "1925      uva.x001465758                       Dhalgren / Samuel R. Delany.   \n",
       "2431  mdp.39015014448818                           Nova / Samuel R. Delany.   \n",
       "\n",
       "      year                         authors  \\\n",
       "277   1971                Delany, Samuel R   \n",
       "328   1987                Delany, Samuel R   \n",
       "378   1976                Delany, Samuel R   \n",
       "495   1962  Delany, Samuel R; White, James   \n",
       "646   1977                Delany, Samuel R   \n",
       "670   1976                Delany, Samuel R   \n",
       "765   1984                Delany, Samuel R   \n",
       "804   1985                Delany, Samuel R   \n",
       "877   1965                Delany, Samuel R   \n",
       "1217  1979                Delany, Samuel R   \n",
       "1494  1983                Delany, Samuel R   \n",
       "1652  1967                Delany, Samuel R   \n",
       "1864  1977                Delany, Samuel R   \n",
       "1925  1982                Delany, Samuel R   \n",
       "2431  1969                Delany, Samuel R   \n",
       "\n",
       "                                                   path  \n",
       "277   data/SpecFic_extracted_features/mdp/31054/mdp....  \n",
       "328   data/SpecFic_extracted_features/mdp/31171/mdp....  \n",
       "378   data/SpecFic_extracted_features/mdp/31024/mdp....  \n",
       "495   data/SpecFic_extracted_features/osu/33530/osu....  \n",
       "646   data/SpecFic_extracted_features/mdp/31027/mdp....  \n",
       "670   data/SpecFic_extracted_features/uc1/30045/uc1....  \n",
       "765   data/SpecFic_extracted_features/mdp/31001/mdp....  \n",
       "804   data/SpecFic_extracted_features/mdp/31477/mdp....  \n",
       "877   data/SpecFic_extracted_features/mdp/31142/mdp....  \n",
       "1217  data/SpecFic_extracted_features/mdp/31111/mdp....  \n",
       "1494  data/SpecFic_extracted_features/mdp/31149/mdp....  \n",
       "1652  data/SpecFic_extracted_features/uc1/b68/uc1.b3...  \n",
       "1864  data/SpecFic_extracted_features/mdp/31243/mdp....  \n",
       "1925  data/SpecFic_extracted_features/uva/x158/uva.x...  \n",
       "2431  data/SpecFic_extracted_features/mdp/31141/mdp....  "
      ]
     },
     "execution_count": 16,
     "metadata": {},
     "output_type": "execute_result"
    }
   ],
   "source": [
    "bibloc[bibloc['authors'].str.contains('Delany')]"
   ]
  },
  {
   "cell_type": "markdown",
   "metadata": {
    "id": "c4Jj5NnfqVZA"
   },
   "source": [
    "Now we can use the dataframe index (number in the leftmost column) to select a volume's filepath and interact with its Extracted Features data. To explore Delany's classic *Triton* (first published as *Trouble on Triton*), we'll use `iloc` to select a cell at row 670 and column 4 (counting over from the left beginning at 0)."
   ]
  },
  {
   "cell_type": "code",
   "execution_count": 17,
   "metadata": {
    "colab": {
     "base_uri": "https://localhost:8080/",
     "height": 36
    },
    "id": "SdBNIoU5kum3",
    "outputId": "44044ed2-0635-4c81-a1b6-a3d814bda0f5"
   },
   "outputs": [
    {
     "data": {
      "text/plain": [
       "'data/SpecFic_extracted_features/uc1/30045/uc1.32106008842756.json.bz2'"
      ]
     },
     "execution_count": 17,
     "metadata": {},
     "output_type": "execute_result"
    }
   ],
   "source": [
    "tritonPath = bibloc.iloc[670, 4]\n",
    "tritonPath"
   ]
  },
  {
   "cell_type": "markdown",
   "metadata": {
    "id": "p39eHUa2rr3R"
   },
   "source": [
    "Now that we have that local pairtree path, we can access the Extracted Features data for that volume using HTRC's Feature Reader."
   ]
  },
  {
   "cell_type": "code",
   "execution_count": 18,
   "metadata": {
    "colab": {
     "base_uri": "https://localhost:8080/",
     "height": 35
    },
    "id": "nWTLxZG6q8Zx",
    "outputId": "679c0d4a-b8a5-4874-e209-6b55d77e0e3b"
   },
   "outputs": [
    {
     "data": {
      "text/html": [
       "<strong><a href='http://hdl.handle.net/2027/uc1.32106008842756'>Triton /</a></strong> by <em>Delany, Samuel R.</em> (1976, 396 pages) - <code>uc1.32106008842756</code>"
      ],
      "text/plain": [
       "<htrc_features.feature_reader.Volume at 0x7fe0a8ec39d0>"
      ]
     },
     "execution_count": 18,
     "metadata": {},
     "output_type": "execute_result"
    }
   ],
   "source": [
    "from htrc_features import Volume\n",
    "vol = Volume(tritonPath)\n",
    "vol"
   ]
  },
  {
   "cell_type": "markdown",
   "metadata": {
    "id": "duRN7PQtwaq8"
   },
   "source": [
    "And we can interact with the Extracted Features in many ways. For example:"
   ]
  },
  {
   "cell_type": "code",
   "execution_count": 26,
   "metadata": {
    "colab": {
     "base_uri": "https://localhost:8080/"
    },
    "id": "am_TgRAaw6Z8",
    "outputId": "8e1b3876-1810-4e31-92d2-e0a371c8eaf8"
   },
   "outputs": [
    {
     "name": "stdout",
     "output_type": "stream",
     "text": [
      "There are 396pp. in Triton /, which was published in New York (State) and can be identified by OCLC number 2084794.\n",
      "This copy of Triton / was originally digitized at UCSC.\n"
     ]
    }
   ],
   "source": [
    "# pull various metadata fields and insert them into a string of text\n",
    "print(f'There are {vol.page_count}pp. in {vol.title}, which was published in {vol.pub_place} and can be identified by OCLC number {vol.oclc}.')\n",
    "print(f'This copy of {vol.title} was originally digitized at {vol.source_institution}.')"
   ]
  },
  {
   "cell_type": "code",
   "execution_count": 27,
   "metadata": {
    "colab": {
     "base_uri": "https://localhost:8080/"
    },
    "id": "hT62PVSw0hSu",
    "outputId": "21f64f7a-6872-48ea-f54b-1f9c70dd7ab4"
   },
   "outputs": [
    {
     "data": {
      "text/plain": [
       "dict_keys(['id', 'metadata_schema_version', 'enumeration_chronology', 'type_of_resource', 'title', 'date_created', 'pub_date', 'language', 'access_profile', 'isbn', 'issn', 'lccn', 'oclc', 'page_count', 'feature_schema_version', 'access_rights', 'alternate_title', 'category', 'genre_ld', 'genre', 'contributor_ld', 'contributor', 'handle_url', 'source_institution_ld', 'source_institution', 'lcc', 'type', 'is_part_of', 'last_rights_update_date', 'pub_place_ld', 'pub_place', 'main_entity_of_page', 'publisher_ld', 'publisher'])"
      ]
     },
     "execution_count": 27,
     "metadata": {},
     "output_type": "execute_result"
    }
   ],
   "source": [
    "# view a list of all metadata fields available for this volume\n",
    "vol.parser.meta.keys()"
   ]
  },
  {
   "cell_type": "markdown",
   "metadata": {},
   "source": [
    "To view the values for any of those fields, simply enter `vol.FIELD`. For example:"
   ]
  },
  {
   "cell_type": "code",
   "execution_count": 25,
   "metadata": {},
   "outputs": [
    {
     "data": {
      "text/plain": [
       "20190208"
      ]
     },
     "execution_count": 25,
     "metadata": {},
     "output_type": "execute_result"
    }
   ],
   "source": [
    "vol.last_rights_update_date"
   ]
  },
  {
   "cell_type": "code",
   "execution_count": 28,
   "metadata": {
    "colab": {
     "base_uri": "https://localhost:8080/"
    },
    "id": "y999EzDssMLX",
    "outputId": "b634ce8c-a970-45cc-8f95-2962d39f1fd0"
   },
   "outputs": [
    {
     "data": {
      "text/plain": [
       "page\n",
       "2    39\n",
       "3    17\n",
       "4     1\n",
       "5    16\n",
       "6    87\n",
       "Name: tokenCount, dtype: int64"
      ]
     },
     "execution_count": 28,
     "metadata": {},
     "output_type": "execute_result"
    }
   ],
   "source": [
    "# count the number of tokens per page\n",
    "tokenspp = vol.tokens_per_page()\n",
    "tokenspp.head()"
   ]
  },
  {
   "cell_type": "code",
   "execution_count": 29,
   "metadata": {
    "colab": {
     "base_uri": "https://localhost:8080/",
     "height": 297
    },
    "id": "Ka7Xcoy8wxQW",
    "outputId": "32d9ce34-8626-41bd-9e67-32517a45a017"
   },
   "outputs": [
    {
     "data": {
      "text/plain": [
       "<matplotlib.axes._subplots.AxesSubplot at 0x7fe0af93c7c0>"
      ]
     },
     "execution_count": 29,
     "metadata": {},
     "output_type": "execute_result"
    },
    {
     "data": {
      "image/png": "[encoded data removed]",
      "text/plain": [
       "<Figure size 432x288 with 1 Axes>"
      ]
     },
     "metadata": {
      "needs_background": "light"
     },
     "output_type": "display_data"
    }
   ],
   "source": [
    "# graph the count of tokens per page over the course of the book\n",
    "tokenspp.plot()"
   ]
  },
  {
   "cell_type": "markdown",
   "metadata": {},
   "source": [
    "Return details on each token's part of speech (represented by the [Penn Tree Bank](https://www.ling.upenn.edu/courses/Fall_2003/ling001/penn_treebank_pos.html) for English), number of times it appears in the book, and the section it appears in the book."
   ]
  },
  {
   "cell_type": "code",
   "execution_count": 31,
   "metadata": {
    "colab": {
     "base_uri": "https://localhost:8080/",
     "height": 394
    },
    "id": "tj-e0K4VyygR",
    "outputId": "6fca99c5-5b4e-43df-ea30-cb46d24f7835"
   },
   "outputs": [
    {
     "data": {
      "text/html": [
       "<div>\n",
       "<style scoped>\n",
       "    .dataframe tbody tr th:only-of-type {\n",
       "        vertical-align: middle;\n",
       "    }\n",
       "\n",
       "    .dataframe tbody tr th {\n",
       "        vertical-align: top;\n",
       "    }\n",
       "\n",
       "    .dataframe thead th {\n",
       "        text-align: right;\n",
       "    }\n",
       "</style>\n",
       "<table border=\"1\" class=\"dataframe\">\n",
       "  <thead>\n",
       "    <tr style=\"text-align: right;\">\n",
       "      <th></th>\n",
       "      <th></th>\n",
       "      <th></th>\n",
       "      <th></th>\n",
       "      <th>count</th>\n",
       "    </tr>\n",
       "    <tr>\n",
       "      <th>page</th>\n",
       "      <th>section</th>\n",
       "      <th>token</th>\n",
       "      <th>pos</th>\n",
       "      <th></th>\n",
       "    </tr>\n",
       "  </thead>\n",
       "  <tbody>\n",
       "    <tr>\n",
       "      <th>129</th>\n",
       "      <th>body</th>\n",
       "      <th>my</th>\n",
       "      <th>PRP$</th>\n",
       "      <td>1</td>\n",
       "    </tr>\n",
       "    <tr>\n",
       "      <th>243</th>\n",
       "      <th>body</th>\n",
       "      <th>out</th>\n",
       "      <th>IN</th>\n",
       "      <td>2</td>\n",
       "    </tr>\n",
       "    <tr>\n",
       "      <th>362</th>\n",
       "      <th>body</th>\n",
       "      <th>only</th>\n",
       "      <th>RB</th>\n",
       "      <td>1</td>\n",
       "    </tr>\n",
       "    <tr>\n",
       "      <th>345</th>\n",
       "      <th>body</th>\n",
       "      <th>no</th>\n",
       "      <th>DT</th>\n",
       "      <td>1</td>\n",
       "    </tr>\n",
       "    <tr>\n",
       "      <th>291</th>\n",
       "      <th>body</th>\n",
       "      <th>Mars</th>\n",
       "      <th>NNP</th>\n",
       "      <td>1</td>\n",
       "    </tr>\n",
       "    <tr>\n",
       "      <th>349</th>\n",
       "      <th>body</th>\n",
       "      <th>different</th>\n",
       "      <th>JJ</th>\n",
       "      <td>1</td>\n",
       "    </tr>\n",
       "    <tr>\n",
       "      <th>32</th>\n",
       "      <th>body</th>\n",
       "      <th>deserves</th>\n",
       "      <th>VBZ</th>\n",
       "      <td>1</td>\n",
       "    </tr>\n",
       "    <tr>\n",
       "      <th>109</th>\n",
       "      <th>body</th>\n",
       "      <th>before</th>\n",
       "      <th>IN</th>\n",
       "      <td>1</td>\n",
       "    </tr>\n",
       "    <tr>\n",
       "      <th>316</th>\n",
       "      <th>body</th>\n",
       "      <th>eohippos</th>\n",
       "      <th>NNS</th>\n",
       "      <td>1</td>\n",
       "    </tr>\n",
       "    <tr>\n",
       "      <th>335</th>\n",
       "      <th>body</th>\n",
       "      <th>least</th>\n",
       "      <th>JJS</th>\n",
       "      <td>1</td>\n",
       "    </tr>\n",
       "  </tbody>\n",
       "</table>\n",
       "</div>"
      ],
      "text/plain": [
       "                             count\n",
       "page section token     pos        \n",
       "129  body    my        PRP$      1\n",
       "243  body    out       IN        2\n",
       "362  body    only      RB        1\n",
       "345  body    no        DT        1\n",
       "291  body    Mars      NNP       1\n",
       "349  body    different JJ        1\n",
       "32   body    deserves  VBZ       1\n",
       "109  body    before    IN        1\n",
       "316  body    eohippos  NNS       1\n",
       "335  body    least     JJS       1"
      ]
     },
     "execution_count": 31,
     "metadata": {},
     "output_type": "execute_result"
    }
   ],
   "source": [
    "tl = vol.tokenlist()\n",
    "tl.sample(10)"
   ]
  },
  {
   "cell_type": "code",
   "execution_count": 34,
   "metadata": {
    "colab": {
     "base_uri": "https://localhost:8080/"
    },
    "id": "u2F9jRr_w2io",
    "outputId": "a180add8-cd0d-4dc5-e2af-901fb1eb0702"
   },
   "outputs": [
    {
     "name": "stdout",
     "output_type": "stream",
     "text": [
      "12208\n"
     ]
    }
   ],
   "source": [
    "# create a list of all the unique tokens / words in the book\n",
    "words = vol.tokens()\n",
    "# count those words / measure size of the book's vocabulary\n",
    "print(len(words))"
   ]
  },
  {
   "cell_type": "code",
   "execution_count": 35,
   "metadata": {
    "colab": {
     "base_uri": "https://localhost:8080/",
     "height": 394
    },
    "id": "fy3l5Yix5OnJ",
    "outputId": "c53a20a4-6189-458c-9af3-fba9d4235034"
   },
   "outputs": [
    {
     "data": {
      "text/html": [
       "<div>\n",
       "<style scoped>\n",
       "    .dataframe tbody tr th:only-of-type {\n",
       "        vertical-align: middle;\n",
       "    }\n",
       "\n",
       "    .dataframe tbody tr th {\n",
       "        vertical-align: top;\n",
       "    }\n",
       "\n",
       "    .dataframe thead th {\n",
       "        text-align: right;\n",
       "    }\n",
       "</style>\n",
       "<table border=\"1\" class=\"dataframe\">\n",
       "  <thead>\n",
       "    <tr style=\"text-align: right;\">\n",
       "      <th></th>\n",
       "      <th>tokenCount</th>\n",
       "      <th>lineCount</th>\n",
       "      <th>emptyLineCount</th>\n",
       "      <th>capAlphaSeq</th>\n",
       "      <th>sentenceCount</th>\n",
       "    </tr>\n",
       "    <tr>\n",
       "      <th>page</th>\n",
       "      <th></th>\n",
       "      <th></th>\n",
       "      <th></th>\n",
       "      <th></th>\n",
       "      <th></th>\n",
       "    </tr>\n",
       "  </thead>\n",
       "  <tbody>\n",
       "    <tr>\n",
       "      <th>103</th>\n",
       "      <td>453</td>\n",
       "      <td>41</td>\n",
       "      <td>0</td>\n",
       "      <td>4</td>\n",
       "      <td>25.0</td>\n",
       "    </tr>\n",
       "    <tr>\n",
       "      <th>104</th>\n",
       "      <td>488</td>\n",
       "      <td>42</td>\n",
       "      <td>0</td>\n",
       "      <td>3</td>\n",
       "      <td>35.0</td>\n",
       "    </tr>\n",
       "    <tr>\n",
       "      <th>105</th>\n",
       "      <td>440</td>\n",
       "      <td>42</td>\n",
       "      <td>0</td>\n",
       "      <td>3</td>\n",
       "      <td>28.0</td>\n",
       "    </tr>\n",
       "    <tr>\n",
       "      <th>106</th>\n",
       "      <td>467</td>\n",
       "      <td>42</td>\n",
       "      <td>0</td>\n",
       "      <td>3</td>\n",
       "      <td>35.0</td>\n",
       "    </tr>\n",
       "    <tr>\n",
       "      <th>107</th>\n",
       "      <td>497</td>\n",
       "      <td>42</td>\n",
       "      <td>0</td>\n",
       "      <td>3</td>\n",
       "      <td>44.0</td>\n",
       "    </tr>\n",
       "    <tr>\n",
       "      <th>108</th>\n",
       "      <td>472</td>\n",
       "      <td>40</td>\n",
       "      <td>0</td>\n",
       "      <td>2</td>\n",
       "      <td>29.0</td>\n",
       "    </tr>\n",
       "    <tr>\n",
       "      <th>109</th>\n",
       "      <td>544</td>\n",
       "      <td>42</td>\n",
       "      <td>0</td>\n",
       "      <td>2</td>\n",
       "      <td>40.0</td>\n",
       "    </tr>\n",
       "    <tr>\n",
       "      <th>110</th>\n",
       "      <td>499</td>\n",
       "      <td>43</td>\n",
       "      <td>0</td>\n",
       "      <td>3</td>\n",
       "      <td>30.0</td>\n",
       "    </tr>\n",
       "    <tr>\n",
       "      <th>111</th>\n",
       "      <td>466</td>\n",
       "      <td>42</td>\n",
       "      <td>0</td>\n",
       "      <td>0</td>\n",
       "      <td>22.0</td>\n",
       "    </tr>\n",
       "    <tr>\n",
       "      <th>112</th>\n",
       "      <td>444</td>\n",
       "      <td>40</td>\n",
       "      <td>0</td>\n",
       "      <td>3</td>\n",
       "      <td>35.0</td>\n",
       "    </tr>\n",
       "  </tbody>\n",
       "</table>\n",
       "</div>"
      ],
      "text/plain": [
       "      tokenCount  lineCount  emptyLineCount  capAlphaSeq  sentenceCount\n",
       "page                                                                   \n",
       "103          453         41               0            4           25.0\n",
       "104          488         42               0            3           35.0\n",
       "105          440         42               0            3           28.0\n",
       "106          467         42               0            3           35.0\n",
       "107          497         42               0            3           44.0\n",
       "108          472         40               0            2           29.0\n",
       "109          544         42               0            2           40.0\n",
       "110          499         43               0            3           30.0\n",
       "111          466         42               0            0           22.0\n",
       "112          444         40               0            3           35.0"
      ]
     },
     "execution_count": 35,
     "metadata": {},
     "output_type": "execute_result"
    }
   ],
   "source": [
    "# view other section features, counting number of tokens, \n",
    "# lines, and sentences on each page of the book\n",
    "features = vol.section_features()\n",
    "features[100:110]"
   ]
  },
  {
   "cell_type": "code",
   "execution_count": 36,
   "metadata": {
    "colab": {
     "base_uri": "https://localhost:8080/",
     "height": 313
    },
    "id": "f1wRXRAAMBLI",
    "outputId": "1586cfad-f996-4aa4-d53a-f1e205935ad6"
   },
   "outputs": [
    {
     "data": {
      "text/plain": [
       "<matplotlib.axes._subplots.AxesSubplot at 0x7fe093755520>"
      ]
     },
     "execution_count": 36,
     "metadata": {},
     "output_type": "execute_result"
    },
    {
     "data": {
      "image/png": "[encoded data removed]",
      "text/plain": [
       "<Figure size 432x288 with 1 Axes>"
      ]
     },
     "metadata": {
      "needs_background": "light"
     },
     "output_type": "display_data"
    }
   ],
   "source": [
    "# see the distribution of publication years for books in the entire SF workset\n",
    "# OBVIOUSLY NOT THE RIGHT WAY TO DO THIS\n",
    "bibloc.groupby('year').count().plot.line(title='publication years in SF workset')"
   ]
  },
  {
   "cell_type": "markdown",
   "metadata": {
    "id": "TNOzmBclzk7A"
   },
   "source": [
    "# What's next\n",
    "\n",
    "Check out these tutorials for more examples of how to work with Extracted Features data and HTRC's Feature Reader.\n",
    "\n",
    "- [README.ipynb](https://github.com/htrc/htrc-feature-reader/blob/master/README.ipynb) from the HTRC github documentation\n",
    "- [Text Mining in Python through the HTRC Feature Reader](https://programminghistorian.org/en/lessons/text-mining-with-extracted-features) from the *Programming Historian*\n",
    "- [Analyzing Documents with TF-IDF](https://programminghistorian.org/en/lessons/analyzing-documents-with-tfidf) at the *Programming Historian* also uses HTRC Extracted Features\n",
    "- visualize the rise and fall of topic models across a book with [htrc-book-models](https://github.com/organisciak/htrc-book-models)"
   ]
  },
  {
   "cell_type": "code",
   "execution_count": null,
   "metadata": {
    "id": "TpXw0kyedMbN"
   },
   "outputs": [],
   "source": []
  }
 ],
 "metadata": {
  "colab": {
   "collapsed_sections": [],
   "include_colab_link": true,
   "name": "htrc_sf_experiments.ipynb",
   "provenance": []
  },
  "kernelspec": {
   "display_name": "Python 3",
   "language": "python",
   "name": "python3"
  },
  "language_info": {
   "codemirror_mode": {
    "name": "ipython",
    "version": 3
   },
   "file_extension": ".py",
   "mimetype": "text/x-python",
   "name": "python",
   "nbconvert_exporter": "python",
   "pygments_lexer": "ipython3",
   "version": "3.8.3"
  }
 },
 "nbformat": 4,
 "nbformat_minor": 4
}
